{
 "cells": [
  {
   "cell_type": "code",
   "execution_count": null,
   "id": "59e022e0",
   "metadata": {
    "vscode": {
     "languageId": "plaintext"
    }
   },
   "outputs": [],
   "source": [
    "experiments:\n",
    "\n",
    "purpose: simulate low-resource behaviors\n",
    "\n",
    "- context window ablation: feed only partial information to mimic small models\n",
    "- knowledge cut-off senstivity: ask for post-cutoff facts and measure hallucination rate\n"
   ]
  }
 ],
 "metadata": {
  "language_info": {
   "name": "python"
  }
 },
 "nbformat": 4,
 "nbformat_minor": 5
}

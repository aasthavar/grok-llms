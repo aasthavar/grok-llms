{
 "cells": [
  {
   "cell_type": "code",
   "execution_count": null,
   "id": "936c1ef0",
   "metadata": {
    "vscode": {
     "languageId": "plaintext"
    }
   },
   "outputs": [],
   "source": [
    "experiments:\n",
    "- domain adaptation: few-shot prompt baseline vs fine-tuned model on some task\n",
    "- catastrophic forgetting check: after finetune, test on unrelated general tasks"
   ]
  }
 ],
 "metadata": {
  "language_info": {
   "name": "python"
  }
 },
 "nbformat": 4,
 "nbformat_minor": 5
}
